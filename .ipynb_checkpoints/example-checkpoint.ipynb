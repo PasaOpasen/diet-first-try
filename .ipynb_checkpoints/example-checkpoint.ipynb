{
  "nbformat": 4,
  "nbformat_minor": 0,
  "metadata": {
    "colab": {
      "name": "Untitled6.ipynb",
      "provenance": []
    },
    "kernelspec": {
      "name": "python3",
      "display_name": "Python 3"
    }
  },
  "cells": [
    {
      "cell_type": "code",
      "metadata": {
        "id": "r0oZCf64IKR3",
        "colab_type": "code",
        "colab": {
          "base_uri": "https://localhost:8080/",
          "height": 442
        },
        "outputId": "4bdd17fb-50eb-4bff-9fd8-4b5470cf4157"
      },
      "source": [
        "# import mysql.connector as sql\n",
        "#%pip install pymysql\n",
        "%pip install sshtunnel\n",
        "from sshtunnel import SSHTunnelForwarder, create_logger\n",
        "import sshtunnel\n",
        "import paramiko\n",
        "from paramiko import SSHClient\n",
        "from os.path import expanduser\n",
        "\n",
        "\n",
        "remote_user = 'root'\n",
        "remote_password = 'qz!813_gg1'\n",
        "remote_host = '192.168.10.10'\n",
        "remote_port = 22\n",
        "local_host = '127.0.0.1'\n",
        "local_port = 5001\n",
        "\n",
        "import sshtunnel\n",
        "\n",
        "import pandas as pd\n",
        "import pymysql.cursors\n",
        "\n",
        "def queryR(q):\n",
        "    try:\n",
        "        server = SSHTunnelForwarder(\n",
        "       ('185.201.47.35', 22),\n",
        "       ssh_username=remote_user,\n",
        "       ssh_password=remote_password,\n",
        "       remote_bind_address=('185.201.47.35', 3306),\n",
        "       local_bind_address=('127.0.0.1', 3306),    \n",
        "        #logger=create_logger(loglevel=1)\n",
        "       )\n",
        "\n",
        "        server.start()\n",
        "        connection = pymysql.connect(host='127.0.0.1',\n",
        "                                 port=server.local_bind_port,\n",
        "                                 user='root_test',\n",
        "                                 password='Vi6o55pgr%',\n",
        "                                 db='nitrat2',\n",
        "                                 cursorclass=pymysql.cursors.DictCursor)\n",
        "        tmp = pd.read_sql(q, con=connection)    \n",
        "        server.stop()\n",
        "        return tmp\n",
        "    except:\n",
        "        server.stop()"
      ],
      "execution_count": 7,
      "outputs": [
        {
          "output_type": "stream",
          "text": [
            "Collecting sshtunnel\n",
            "\u001b[?25l  Downloading https://files.pythonhosted.org/packages/c5/5c/4b320d7ec4b0d5d4d6df1fdf66a5799625b3623d0ce4efe81719c6f8dfb3/sshtunnel-0.1.5.tar.gz (49kB)\n",
            "\u001b[K     |████████████████████████████████| 51kB 1.6MB/s \n",
            "\u001b[?25hCollecting paramiko>=1.15.2\n",
            "\u001b[?25l  Downloading https://files.pythonhosted.org/packages/95/19/124e9287b43e6ff3ebb9cdea3e5e8e88475a873c05ccdf8b7e20d2c4201e/paramiko-2.7.2-py2.py3-none-any.whl (206kB)\n",
            "\u001b[K     |████████████████████████████████| 215kB 7.5MB/s \n",
            "\u001b[?25hCollecting pynacl>=1.0.1\n",
            "\u001b[?25l  Downloading https://files.pythonhosted.org/packages/9d/57/2f5e6226a674b2bcb6db531e8b383079b678df5b10cdaa610d6cf20d77ba/PyNaCl-1.4.0-cp35-abi3-manylinux1_x86_64.whl (961kB)\n",
            "\u001b[K     |████████████████████████████████| 962kB 47.5MB/s \n",
            "\u001b[?25hCollecting cryptography>=2.5\n",
            "\u001b[?25l  Downloading https://files.pythonhosted.org/packages/c0/9c/647e559a6e8be493dc2a7a5d15d26cb501ca60ec299b356f23839a673a83/cryptography-3.1-cp35-abi3-manylinux2010_x86_64.whl (2.6MB)\n",
            "\u001b[K     |████████████████████████████████| 2.6MB 46.6MB/s \n",
            "\u001b[?25hCollecting bcrypt>=3.1.3\n",
            "\u001b[?25l  Downloading https://files.pythonhosted.org/packages/26/70/6d218afbe4c73538053c1016dd631e8f25fffc10cd01f5c272d7acf3c03d/bcrypt-3.2.0-cp36-abi3-manylinux2010_x86_64.whl (63kB)\n",
            "\u001b[K     |████████████████████████████████| 71kB 9.6MB/s \n",
            "\u001b[?25hRequirement already satisfied: six in /usr/local/lib/python3.6/dist-packages (from pynacl>=1.0.1->paramiko>=1.15.2->sshtunnel) (1.15.0)\n",
            "Requirement already satisfied: cffi>=1.4.1 in /usr/local/lib/python3.6/dist-packages (from pynacl>=1.0.1->paramiko>=1.15.2->sshtunnel) (1.14.2)\n",
            "Requirement already satisfied: pycparser in /usr/local/lib/python3.6/dist-packages (from cffi>=1.4.1->pynacl>=1.0.1->paramiko>=1.15.2->sshtunnel) (2.20)\n",
            "Building wheels for collected packages: sshtunnel\n",
            "  Building wheel for sshtunnel (setup.py) ... \u001b[?25l\u001b[?25hdone\n",
            "  Created wheel for sshtunnel: filename=sshtunnel-0.1.5-py2.py3-none-any.whl size=23244 sha256=1b1d99c3e15c3dbb1634d4cdf7b0a7b8d0afad06252bc9eb1bfc502de3b27202\n",
            "  Stored in directory: /root/.cache/pip/wheels/e8/d2/38/b9791b7391f634099194ec6697fa671194f3353906d94c8f92\n",
            "Successfully built sshtunnel\n",
            "Installing collected packages: pynacl, cryptography, bcrypt, paramiko, sshtunnel\n",
            "Successfully installed bcrypt-3.2.0 cryptography-3.1 paramiko-2.7.2 pynacl-1.4.0 sshtunnel-0.1.5\n"
          ],
          "name": "stdout"
        }
      ]
    },
    {
      "cell_type": "code",
      "metadata": {
        "id": "YfDkRp8uIXEX",
        "colab_type": "code",
        "colab": {}
      },
      "source": [
        "df = queryR(\"show tables\")"
      ],
      "execution_count": 8,
      "outputs": []
    },
    {
      "cell_type": "code",
      "metadata": {
        "id": "JaMVBctMIcRu",
        "colab_type": "code",
        "colab": {
          "base_uri": "https://localhost:8080/",
          "height": 204
        },
        "outputId": "c365f38e-4704-440a-a00b-2842181b2d2f"
      },
      "source": [
        "df.head()"
      ],
      "execution_count": 9,
      "outputs": [
        {
          "output_type": "execute_result",
          "data": {
            "text/html": [
              "<div>\n",
              "<style scoped>\n",
              "    .dataframe tbody tr th:only-of-type {\n",
              "        vertical-align: middle;\n",
              "    }\n",
              "\n",
              "    .dataframe tbody tr th {\n",
              "        vertical-align: top;\n",
              "    }\n",
              "\n",
              "    .dataframe thead th {\n",
              "        text-align: right;\n",
              "    }\n",
              "</style>\n",
              "<table border=\"1\" class=\"dataframe\">\n",
              "  <thead>\n",
              "    <tr style=\"text-align: right;\">\n",
              "      <th></th>\n",
              "      <th>Tables_in_nitrat2</th>\n",
              "    </tr>\n",
              "  </thead>\n",
              "  <tbody>\n",
              "    <tr>\n",
              "      <th>0</th>\n",
              "      <td>NutrientType</td>\n",
              "    </tr>\n",
              "    <tr>\n",
              "      <th>1</th>\n",
              "      <td>acids</td>\n",
              "    </tr>\n",
              "    <tr>\n",
              "      <th>2</th>\n",
              "      <td>alias_units</td>\n",
              "    </tr>\n",
              "    <tr>\n",
              "      <th>3</th>\n",
              "      <td>categories_limit</td>\n",
              "    </tr>\n",
              "    <tr>\n",
              "      <th>4</th>\n",
              "      <td>category</td>\n",
              "    </tr>\n",
              "  </tbody>\n",
              "</table>\n",
              "</div>"
            ],
            "text/plain": [
              "  Tables_in_nitrat2\n",
              "0      NutrientType\n",
              "1             acids\n",
              "2       alias_units\n",
              "3  categories_limit\n",
              "4          category"
            ]
          },
          "metadata": {
            "tags": []
          },
          "execution_count": 9
        }
      ]
    },
    {
      "cell_type": "code",
      "metadata": {
        "id": "kDm5BL2RJerV",
        "colab_type": "code",
        "colab": {}
      },
      "source": [
        ""
      ],
      "execution_count": null,
      "outputs": []
    }
  ]
}